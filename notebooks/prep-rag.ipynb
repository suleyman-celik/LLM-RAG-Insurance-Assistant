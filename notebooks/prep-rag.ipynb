{
 "cells": [
  {
   "cell_type": "code",
   "execution_count": 1,
   "id": "e3d59be3",
   "metadata": {},
   "outputs": [],
   "source": [
    "import json\n"
   ]
  },
  {
   "cell_type": "code",
   "execution_count": 2,
   "id": "e77f180d",
   "metadata": {},
   "outputs": [],
   "source": [
    "with open('../Data/documents-with-ids.json', 'rt') as f_in:\n",
    "    documents = json.load(f_in)"
   ]
  },
  {
   "cell_type": "code",
   "execution_count": 3,
   "id": "902363d6",
   "metadata": {},
   "outputs": [
    {
     "data": {
      "text/plain": [
       "{'intent': 'information_auto_insurance',\n",
       " 'question': 'wanna see my fucking auto insurance where could i do it',\n",
       " 'response': 'To retrieve your auto insurance details, please adhere to the following procedures:\\n\\n1. Sign into your account at {{WEBSITE_URL}}.\\n2. Locate the {{MY_POLICIES_SECTION}} tab on the dashboard.\\n3. Select the auto insurance policy you want to review.\\n\\nThis process will grant you access to all pertinent information regarding your auto insurance. Should you require additional support, do not hesitate to contact me.',\n",
       " 'category': 'AUTO_INSURANCE',\n",
       " 'id': 'f59f968d'}"
      ]
     },
     "execution_count": 3,
     "metadata": {},
     "output_type": "execute_result"
    }
   ],
   "source": [
    "documents[3]"
   ]
  },
  {
   "cell_type": "code",
   "execution_count": 4,
   "id": "2e36714e",
   "metadata": {},
   "outputs": [],
   "source": [
    "prompt_template = \"\"\"\n",
    "You are emulating a real customer contacting an insurance company's support.\n",
    "Based on the following FAQ record, generate 5 natural questions the customer\n",
    "might ask to get the same information. \n",
    "\n",
    "Guidelines:\n",
    "- Each question should be clear, concise, and sound like something a real customer would say.  \n",
    "- Do not reuse exact wording from the FAQ record — rephrase naturally.  \n",
    "- Ensure all questions are relevant to the intent.  \n",
    "- Cover variations (short, direct, polite, urgent, explanatory).  \n",
    "- Keep questions simple and customer-friendly.  \n",
    "\n",
    "FAQ record:\n",
    "intent: {intent}\n",
    "question: {question}\n",
    "response: {response}\n",
    "\n",
    "Return only valid JSON in this format (no explanations, no code blocks):\n",
    "\n",
    "{{\n",
    "  \"questions\": [\n",
    "    \"question1\",\n",
    "    \"question2\",\n",
    "    \"question3\",\n",
    "    \"question4\",\n",
    "    \"question5\"\n",
    "  ]\n",
    "}}\n",
    "\"\"\".strip()"
   ]
  },
  {
   "cell_type": "code",
   "execution_count": null,
   "id": "da40763d",
   "metadata": {},
   "outputs": [],
   "source": []
  }
 ],
 "metadata": {
  "kernelspec": {
   "display_name": "llm-rag",
   "language": "python",
   "name": "python3"
  },
  "language_info": {
   "codemirror_mode": {
    "name": "ipython",
    "version": 3
   },
   "file_extension": ".py",
   "mimetype": "text/x-python",
   "name": "python",
   "nbconvert_exporter": "python",
   "pygments_lexer": "ipython3",
   "version": "3.12.11"
  }
 },
 "nbformat": 4,
 "nbformat_minor": 5
}
