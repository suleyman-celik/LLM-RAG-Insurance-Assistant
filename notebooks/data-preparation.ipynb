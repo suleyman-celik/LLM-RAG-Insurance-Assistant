{
 "cells": [
  {
   "cell_type": "code",
   "execution_count": null,
   "id": "af3af100",
   "metadata": {},
   "outputs": [],
   "source": [
    "# Libraries\n",
    "import json\n",
    "import requests\n",
    "from tqdm import tqdm\n",
    "import os\n"
   ]
  },
  {
   "cell_type": "code",
   "execution_count": null,
   "id": "41f9f999",
   "metadata": {},
   "outputs": [],
   "source": [
    "# Download the dataset\n",
    "url = \"https://huggingface.co/datasets/bitext/Bitext-insurance-llm-chatbot-training-dataset/resolve/main/insurance_llm_chatbot_training_dataset.jsonl\"\n",
    "response = requests.get(url, stream=True)\n",
    "# Check if the request was successful \n",
    "if response.status_code == 200:\n",
    "    # Create a directory to save the dataset\n",
    "    os.makedirs(\"bitext/Bitext-insurance-llm-chatbot-training-dataset\", exist_ok=True)\n",
    "    # Open a file to write the dataset\n",
    "    with open(\"bitext/Bitext-insurance-llm-chatbot-training-dataset/insurance_llm_chatbot_training_dataset.jsonl\", \"wb\") as f:\n",
    "        for chunk in tqdm(response.iter_content(chunk_size=8192), desc=\"Downloading\"):\n",
    "            f.write(chunk)\n",
    "else:\n",
    "    print(f\"Failed to download dataset. Status code: {response.status_code}\")\n",
    "# Load the dataset\n",
    "with open(\"bitext/Bitext-insurance-llm-chatbot-training-dataset/insurance_llm_chatbot_training_dataset.jsonl\", \"r\") as f:\n",
    "    dataset = [json.loads(line) for line in f]\n",
    "# Display the first few entries of the dataset\n",
    "for entry in dataset[:5]:\n",
    "    print(entry)\n"
   ]
  }
 ],
 "metadata": {
  "kernelspec": {
   "display_name": "llm-rag",
   "language": "python",
   "name": "python3"
  },
  "language_info": {
   "name": "python",
   "version": "3.12.11"
  }
 },
 "nbformat": 4,
 "nbformat_minor": 5
}
