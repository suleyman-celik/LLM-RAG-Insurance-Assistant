{
 "cells": [
  {
   "cell_type": "code",
   "execution_count": 3,
   "id": "af3af100",
   "metadata": {},
   "outputs": [],
   "source": [
    "# Libraries\n",
    "import json\n",
    "import requests\n",
    "from tqdm import tqdm\n",
    "import os\n",
    "import pandas as pd"
   ]
  },
  {
   "cell_type": "code",
   "execution_count": 39,
   "id": "41f9f999",
   "metadata": {},
   "outputs": [
    {
     "name": "stdout",
     "output_type": "stream",
     "text": [
      "⚡ Dataset already exists locally.\n",
      "                                         instruction  \\\n",
      "0  I'd like to see my fucking auto insurance , I ...   \n",
      "1  wanna know more about my auto insurance giev m...   \n",
      "2  I'd like to sde my fucking auto insurance coul...   \n",
      "3  wanna see my fucking auto insurance where coul...   \n",
      "4  I need information about my fucking auto insur...   \n",
      "\n",
      "                       intent        category      tags  \\\n",
      "0  information_auto_insurance  AUTO_INSURANCE    BCLPWZ   \n",
      "1  information_auto_insurance  AUTO_INSURANCE      BCQZ   \n",
      "2  information_auto_insurance  AUTO_INSURANCE  BCILPQWZ   \n",
      "3  information_auto_insurance  AUTO_INSURANCE   BCILPQW   \n",
      "4  information_auto_insurance  AUTO_INSURANCE      BCIW   \n",
      "\n",
      "                                            response  \n",
      "0  To retrieve the details of your auto insurance...  \n",
      "1  To retrieve your auto insurance details, pleas...  \n",
      "2  To obtain your auto insurance information, kin...  \n",
      "3  To retrieve your auto insurance details, pleas...  \n",
      "4  To retrieve your auto insurance details, pleas...  \n"
     ]
    }
   ],
   "source": [
    "# URL of the dataset (CSV version)\n",
    "url = \"https://huggingface.co/datasets/bitext/Bitext-insurance-llm-chatbot-training-dataset/resolve/main/bitext-insurance-llm-chatbot-training-dataset.csv\"\n",
    "\n",
    "# Create \"data\" folder if not exists\n",
    "os.makedirs(\"data\", exist_ok=True)\n",
    "\n",
    "# File path to save\n",
    "file_path = \"data/insurance_llm_chatbot_training_dataset.csv\"\n",
    "\n",
    "# Download the dataset if not already downloaded\n",
    "if not os.path.exists(file_path):\n",
    "    response = requests.get(url, stream=True)\n",
    "    if response.status_code == 200:\n",
    "        with open(file_path, \"wb\") as f:\n",
    "            for chunk in tqdm(response.iter_content(chunk_size=8192), desc=\"Downloading\"):\n",
    "                f.write(chunk)\n",
    "        print(\"✅ Dataset downloaded successfully!\")\n",
    "    else:\n",
    "        print(f\"❌ Failed to download dataset. Status code: {response.status_code}\")\n",
    "else:\n",
    "    print(\"⚡ Dataset already exists locally.\")\n",
    "\n",
    "# Load the dataset with pandas\n",
    "df = pd.read_csv(file_path)\n",
    "\n",
    "# Display first few rows\n",
    "print(df.head())\n"
   ]
  },
  {
   "cell_type": "code",
   "execution_count": 40,
   "id": "5cfd6f8a",
   "metadata": {},
   "outputs": [
    {
     "data": {
      "text/html": [
       "<div>\n",
       "<style scoped>\n",
       "    .dataframe tbody tr th:only-of-type {\n",
       "        vertical-align: middle;\n",
       "    }\n",
       "\n",
       "    .dataframe tbody tr th {\n",
       "        vertical-align: top;\n",
       "    }\n",
       "\n",
       "    .dataframe thead th {\n",
       "        text-align: right;\n",
       "    }\n",
       "</style>\n",
       "<table border=\"1\" class=\"dataframe\">\n",
       "  <thead>\n",
       "    <tr style=\"text-align: right;\">\n",
       "      <th></th>\n",
       "      <th>instruction</th>\n",
       "      <th>intent</th>\n",
       "      <th>category</th>\n",
       "      <th>tags</th>\n",
       "      <th>response</th>\n",
       "    </tr>\n",
       "  </thead>\n",
       "  <tbody>\n",
       "    <tr>\n",
       "      <th>0</th>\n",
       "      <td>I'd like to see my fucking auto insurance , I ...</td>\n",
       "      <td>information_auto_insurance</td>\n",
       "      <td>AUTO_INSURANCE</td>\n",
       "      <td>BCLPWZ</td>\n",
       "      <td>To retrieve the details of your auto insurance...</td>\n",
       "    </tr>\n",
       "    <tr>\n",
       "      <th>1</th>\n",
       "      <td>wanna know more about my auto insurance giev m...</td>\n",
       "      <td>information_auto_insurance</td>\n",
       "      <td>AUTO_INSURANCE</td>\n",
       "      <td>BCQZ</td>\n",
       "      <td>To retrieve your auto insurance details, pleas...</td>\n",
       "    </tr>\n",
       "    <tr>\n",
       "      <th>2</th>\n",
       "      <td>I'd like to sde my fucking auto insurance coul...</td>\n",
       "      <td>information_auto_insurance</td>\n",
       "      <td>AUTO_INSURANCE</td>\n",
       "      <td>BCILPQWZ</td>\n",
       "      <td>To obtain your auto insurance information, kin...</td>\n",
       "    </tr>\n",
       "    <tr>\n",
       "      <th>3</th>\n",
       "      <td>wanna see my fucking auto insurance where coul...</td>\n",
       "      <td>information_auto_insurance</td>\n",
       "      <td>AUTO_INSURANCE</td>\n",
       "      <td>BCILPQW</td>\n",
       "      <td>To retrieve your auto insurance details, pleas...</td>\n",
       "    </tr>\n",
       "    <tr>\n",
       "      <th>4</th>\n",
       "      <td>I need information about my fucking auto insur...</td>\n",
       "      <td>information_auto_insurance</td>\n",
       "      <td>AUTO_INSURANCE</td>\n",
       "      <td>BCIW</td>\n",
       "      <td>To retrieve your auto insurance details, pleas...</td>\n",
       "    </tr>\n",
       "    <tr>\n",
       "      <th>...</th>\n",
       "      <td>...</td>\n",
       "      <td>...</td>\n",
       "      <td>...</td>\n",
       "      <td>...</td>\n",
       "      <td>...</td>\n",
       "    </tr>\n",
       "    <tr>\n",
       "      <th>38995</th>\n",
       "      <td>I would like to know about my travel insurance...</td>\n",
       "      <td>information_travel_insurance</td>\n",
       "      <td>TRAVEL_INSURANCE</td>\n",
       "      <td>BCIP</td>\n",
       "      <td>To obtain detailed information regarding your ...</td>\n",
       "    </tr>\n",
       "    <tr>\n",
       "      <th>38996</th>\n",
       "      <td>im looking for information about  my travel in...</td>\n",
       "      <td>information_travel_insurance</td>\n",
       "      <td>TRAVEL_INSURANCE</td>\n",
       "      <td>BCIQZ</td>\n",
       "      <td>To obtain the necessary information regarding ...</td>\n",
       "    </tr>\n",
       "    <tr>\n",
       "      <th>38997</th>\n",
       "      <td>is it possible to see my fucking travel insura...</td>\n",
       "      <td>information_travel_insurance</td>\n",
       "      <td>TRAVEL_INSURANCE</td>\n",
       "      <td>BILW</td>\n",
       "      <td>To access your travel insurance details, pleas...</td>\n",
       "    </tr>\n",
       "    <tr>\n",
       "      <th>38998</th>\n",
       "      <td>would it be possible to see my travel insurance?</td>\n",
       "      <td>information_travel_insurance</td>\n",
       "      <td>TRAVEL_INSURANCE</td>\n",
       "      <td>BILP</td>\n",
       "      <td>To access your travel insurance details, pleas...</td>\n",
       "    </tr>\n",
       "    <tr>\n",
       "      <th>38999</th>\n",
       "      <td>I'd like information about my travel insurance...</td>\n",
       "      <td>information_travel_insurance</td>\n",
       "      <td>TRAVEL_INSURANCE</td>\n",
       "      <td>BCIPQ</td>\n",
       "      <td>To obtain the necessary information regarding ...</td>\n",
       "    </tr>\n",
       "  </tbody>\n",
       "</table>\n",
       "<p>39000 rows × 5 columns</p>\n",
       "</div>"
      ],
      "text/plain": [
       "                                             instruction  \\\n",
       "0      I'd like to see my fucking auto insurance , I ...   \n",
       "1      wanna know more about my auto insurance giev m...   \n",
       "2      I'd like to sde my fucking auto insurance coul...   \n",
       "3      wanna see my fucking auto insurance where coul...   \n",
       "4      I need information about my fucking auto insur...   \n",
       "...                                                  ...   \n",
       "38995  I would like to know about my travel insurance...   \n",
       "38996  im looking for information about  my travel in...   \n",
       "38997  is it possible to see my fucking travel insura...   \n",
       "38998   would it be possible to see my travel insurance?   \n",
       "38999  I'd like information about my travel insurance...   \n",
       "\n",
       "                             intent          category      tags  \\\n",
       "0        information_auto_insurance    AUTO_INSURANCE    BCLPWZ   \n",
       "1        information_auto_insurance    AUTO_INSURANCE      BCQZ   \n",
       "2        information_auto_insurance    AUTO_INSURANCE  BCILPQWZ   \n",
       "3        information_auto_insurance    AUTO_INSURANCE   BCILPQW   \n",
       "4        information_auto_insurance    AUTO_INSURANCE      BCIW   \n",
       "...                             ...               ...       ...   \n",
       "38995  information_travel_insurance  TRAVEL_INSURANCE      BCIP   \n",
       "38996  information_travel_insurance  TRAVEL_INSURANCE     BCIQZ   \n",
       "38997  information_travel_insurance  TRAVEL_INSURANCE      BILW   \n",
       "38998  information_travel_insurance  TRAVEL_INSURANCE      BILP   \n",
       "38999  information_travel_insurance  TRAVEL_INSURANCE     BCIPQ   \n",
       "\n",
       "                                                response  \n",
       "0      To retrieve the details of your auto insurance...  \n",
       "1      To retrieve your auto insurance details, pleas...  \n",
       "2      To obtain your auto insurance information, kin...  \n",
       "3      To retrieve your auto insurance details, pleas...  \n",
       "4      To retrieve your auto insurance details, pleas...  \n",
       "...                                                  ...  \n",
       "38995  To obtain detailed information regarding your ...  \n",
       "38996  To obtain the necessary information regarding ...  \n",
       "38997  To access your travel insurance details, pleas...  \n",
       "38998  To access your travel insurance details, pleas...  \n",
       "38999  To obtain the necessary information regarding ...  \n",
       "\n",
       "[39000 rows x 5 columns]"
      ]
     },
     "execution_count": 40,
     "metadata": {},
     "output_type": "execute_result"
    }
   ],
   "source": [
    "df"
   ]
  },
  {
   "cell_type": "code",
   "execution_count": 41,
   "id": "166bdada",
   "metadata": {},
   "outputs": [
    {
     "data": {
      "text/plain": [
       "category\n",
       "CLAIMS                 6000\n",
       "PAYMENT                5000\n",
       "CONTACT                4000\n",
       "COVERAGE               4000\n",
       "ENROLLMENT             4000\n",
       "COMPLAINTS             3000\n",
       "QUOTE                  2000\n",
       "INCIDENTS              2000\n",
       "AUTO_INSURANCE         1000\n",
       "PET_INSURANCE          1000\n",
       "RENEW                  1000\n",
       "POLICY                 1000\n",
       "HOME_INSURANCE         1000\n",
       "LIFE_INSURANCE         1000\n",
       "HEALTH_INSURANCE       1000\n",
       "GENERAL_INFORMATION    1000\n",
       "TRAVEL_INSURANCE       1000\n",
       "Name: count, dtype: int64"
      ]
     },
     "execution_count": 41,
     "metadata": {},
     "output_type": "execute_result"
    }
   ],
   "source": [
    "df['category'].value_counts()"
   ]
  },
  {
   "cell_type": "code",
   "execution_count": 42,
   "id": "2b454b9f",
   "metadata": {},
   "outputs": [
    {
     "data": {
      "text/plain": [
       "[{'instruction': 'could i accept a fucking offer',\n",
       "  'intent': 'accept_settlement',\n",
       "  'category': 'CLAIMS',\n",
       "  'tags': 'BILPQW',\n",
       "  'response': 'To proceed with accepting a settlement offer, please follow these detailed instructions:\\n\\n1. Carefully examine the settlement offer details provided by your insurance company. It is essential that you fully comprehend the terms and conditions specified.\\n2. Access your account by visiting our insurance portal at {{WEBSITE_URL}}.\\n3. Go to the {{CLAIM_SECTION}} section to locate the settlement offer that you intend to accept.\\n4. Choose the accept option by clicking on the {{ACCEPT_OFFER_BUTTON}}. \\n5. Validate your acceptance by finishing any mandatory verification procedures, which may require your electronic signature or additional identifying information.\\n6. After completing these actions, you will receive a confirmation message indicating that the settlement offer has been successfully accepted.\\n\\nIf you face any difficulties during this process, do not hesitate to reach out to our customer support team for further assistance.'},\n",
       " {'instruction': 'I would like to accept settlements, ciuld I get some help?',\n",
       "  'intent': 'accept_settlement',\n",
       "  'category': 'CLAIMS',\n",
       "  'tags': 'BCIMPZ',\n",
       "  'response': 'To proceed with accepting your settlement offer, please adhere to the following steps:\\n\\n1. Carefully examine the settlement offer details provided by your insurance company. Confirm that you fully comprehend the terms and conditions stated in the offer.\\n2. Access your account by logging into our insurance platform at {{WEBSITE_URL}}.\\n3. Go to the {{CLAIM_SECTION}} section and locate the specific settlement offer you are intending to accept.\\n4. Choose the acceptance option by clicking on the {{ACCEPT_OFFER_BUTTON}}.\\n5. Verify your acceptance by executing any necessary identification procedures, which might include submitting your electronic signature or additional identification details.\\n6. After completing these actions, you should receive a notification confirming that your settlement offer has been successfully accepted.\\n\\nIf you face any difficulties during this process, do not hesitate to reach out to our customer support team for assistance.'},\n",
       " {'instruction': \"I'd like to accept a fucknig offer, help me\",\n",
       "  'intent': 'accept_settlement',\n",
       "  'category': 'CLAIMS',\n",
       "  'tags': 'BCLPWZ',\n",
       "  'response': 'To proceed with the acceptance of your settlement offer, please adhere to the following steps:\\n\\n1. Carefully examine the settlement offer documentation provided by your insurance company. Make sure you are fully aware of all terms and conditions stipulated in the offer.\\n2. Access your account by visiting our insurance portal at {{WEBSITE_URL}}.\\n3. Locate the {{CLAIM_SECTION}} area and identify the specific settlement offer you intend to accept.\\n4. Click on the option to accept the offer, using the {{ACCEPT_OFFER_BUTTON}} provided.\\n5. Finalize your acceptance by completing any necessary verification requirements, which could involve submitting your electronic signature or supplying additional identification details.\\n6. Upon completing these actions, you will receive a notification confirming that your settlement offer has been successfully accepted.\\n\\nShould you experience any difficulties during this process, do not hesitate to reach out to our customer support team for assistance.'}]"
      ]
     },
     "execution_count": 42,
     "metadata": {},
     "output_type": "execute_result"
    }
   ],
   "source": [
    "df[df['category'] == 'CLAIMS'][0:3].to_dict(orient='records')"
   ]
  },
  {
   "cell_type": "code",
   "execution_count": 43,
   "id": "12902025",
   "metadata": {},
   "outputs": [
    {
     "data": {
      "text/plain": [
       "(39000, 5)"
      ]
     },
     "execution_count": 43,
     "metadata": {},
     "output_type": "execute_result"
    }
   ],
   "source": [
    "df.shape\n"
   ]
  },
  {
   "cell_type": "code",
   "execution_count": 60,
   "id": "86022734",
   "metadata": {},
   "outputs": [],
   "source": [
    "# Select a random 10% of the filtered data\n",
    "df = df[df['category'] == 'CLAIMS']\n",
    "insurance_df = df.sample(frac=0.065, random_state=1)  # 10% sample\n"
   ]
  },
  {
   "cell_type": "code",
   "execution_count": 61,
   "id": "f6486469",
   "metadata": {},
   "outputs": [
    {
     "data": {
      "text/plain": [
       "(390, 5)"
      ]
     },
     "execution_count": 61,
     "metadata": {},
     "output_type": "execute_result"
    }
   ],
   "source": [
    "insurance_df.shape"
   ]
  },
  {
   "cell_type": "code",
   "execution_count": null,
   "id": "63cc3d8a",
   "metadata": {},
   "outputs": [
    {
     "name": "stdout",
     "output_type": "stream",
     "text": [
      "Number of rows: 6000\n",
      "category\n",
      "AUTO_INSURANCE      1000\n",
      "HEALTH_INSURANCE    1000\n",
      "HOME_INSURANCE      1000\n",
      "LIFE_INSURANCE      1000\n",
      "PET_INSURANCE       1000\n",
      "TRAVEL_INSURANCE    1000\n",
      "Name: count, dtype: int64\n",
      "                                         instruction  \\\n",
      "0  I'd like to see my fucking auto insurance , I ...   \n",
      "1  wanna know more about my auto insurance giev m...   \n",
      "2  I'd like to sde my fucking auto insurance coul...   \n",
      "3  wanna see my fucking auto insurance where coul...   \n",
      "4  I need information about my fucking auto insur...   \n",
      "\n",
      "                       intent        category      tags  \\\n",
      "0  information_auto_insurance  AUTO_INSURANCE    BCLPWZ   \n",
      "1  information_auto_insurance  AUTO_INSURANCE      BCQZ   \n",
      "2  information_auto_insurance  AUTO_INSURANCE  BCILPQWZ   \n",
      "3  information_auto_insurance  AUTO_INSURANCE   BCILPQW   \n",
      "4  information_auto_insurance  AUTO_INSURANCE      BCIW   \n",
      "\n",
      "                                            response  \n",
      "0  To retrieve the details of your auto insurance...  \n",
      "1  To retrieve your auto insurance details, pleas...  \n",
      "2  To obtain your auto insurance information, kin...  \n",
      "3  To retrieve your auto insurance details, pleas...  \n",
      "4  To retrieve your auto insurance details, pleas...   \n",
      "                                              instruction  \\\n",
      "38995  I would like to know about my travel insurance...   \n",
      "38996  im looking for information about  my travel in...   \n",
      "38997  is it possible to see my fucking travel insura...   \n",
      "38998   would it be possible to see my travel insurance?   \n",
      "38999  I'd like information about my travel insurance...   \n",
      "\n",
      "                             intent          category   tags  \\\n",
      "38995  information_travel_insurance  TRAVEL_INSURANCE   BCIP   \n",
      "38996  information_travel_insurance  TRAVEL_INSURANCE  BCIQZ   \n",
      "38997  information_travel_insurance  TRAVEL_INSURANCE   BILW   \n",
      "38998  information_travel_insurance  TRAVEL_INSURANCE   BILP   \n",
      "38999  information_travel_insurance  TRAVEL_INSURANCE  BCIPQ   \n",
      "\n",
      "                                                response  \n",
      "38995  To obtain detailed information regarding your ...  \n",
      "38996  To obtain the necessary information regarding ...  \n",
      "38997  To access your travel insurance details, pleas...  \n",
      "38998  To access your travel insurance details, pleas...  \n",
      "38999  To obtain the necessary information regarding ...  \n"
     ]
    }
   ],
   "source": [
    "#  # Filtrele: category sütununda \"INSURANCE\" geçenler\n",
    "# insurance_df = df[df[\"category\"].str.contains(\"INSURANCE\", case=False)]\n",
    "\n",
    "# # Kaç satır olduğunu görelim\n",
    "# print(\"Number of rows:\", len(insurance_df))\n",
    "\n",
    "# # Hangi kategoriler var\n",
    "# print(insurance_df[\"category\"].value_counts())\n",
    "\n",
    "# # İlk satırları göster\n",
    "# print(insurance_df.head(),\"\\n\",insurance_df.tail()) "
   ]
  },
  {
   "cell_type": "code",
   "execution_count": 62,
   "id": "f149cfa7",
   "metadata": {},
   "outputs": [
    {
     "name": "stdout",
     "output_type": "stream",
     "text": [
      "✅ JSON file saved at ../Data/insurance_documents.json\n"
     ]
    }
   ],
   "source": [
    "# ✅ Use the filtered dataframe (insurance_df)\n",
    "data = []\n",
    "\n",
    "output_dir = \"../Data\"\n",
    "os.makedirs(output_dir, exist_ok=True)\n",
    "for category, group_df in insurance_df.groupby('category'):\n",
    "    documents = []\n",
    "    for _, row in group_df.iterrows():\n",
    "        document = {\n",
    "            \"intent\": row['intent'],\n",
    "            \"question\": row['instruction'],\n",
    "            \"response\": row['response']\n",
    "        }\n",
    "        documents.append(document)\n",
    "\n",
    "    data.append({\n",
    "        \"category\": category,\n",
    "        \"documents\": documents\n",
    "    })\n",
    "\n",
    "# Save into JSON file inside ../Data/\n",
    "output_path = os.path.join(output_dir, \"insurance_documents.json\")\n",
    "with open(output_path, \"w\", encoding=\"utf-8\") as jsonf:\n",
    "    json.dump(data, jsonf, indent=2, ensure_ascii=False)\n",
    "\n",
    "print(f\"✅ JSON file saved at {output_path}\")\n"
   ]
  },
  {
   "cell_type": "code",
   "execution_count": 63,
   "id": "7e792738",
   "metadata": {},
   "outputs": [],
   "source": [
    "with open('../Data/insurance_documents.json', 'rt') as f_in:\n",
    "    documents_raw = json.load(f_in)"
   ]
  },
  {
   "cell_type": "code",
   "execution_count": 64,
   "id": "233731a8",
   "metadata": {},
   "outputs": [],
   "source": [
    "documents = []\n",
    "\n",
    "for category in documents_raw:\n",
    "    category_name = category['category']\n",
    "\n",
    "    for doc in category['documents']:\n",
    "        doc['category'] = category_name\n",
    "        documents.append(doc)"
   ]
  },
  {
   "cell_type": "code",
   "execution_count": 65,
   "id": "d404cdd0",
   "metadata": {},
   "outputs": [],
   "source": [
    "import hashlib\n",
    "\n",
    "def generate_document_id(doc):\n",
    "    combined = f\"{doc['category']}-{doc['question']}-{doc['response'][:10]}\"\n",
    "    hash_object = hashlib.md5(combined.encode())\n",
    "    hash_hex = hash_object.hexdigest()\n",
    "    document_id = hash_hex[:8]\n",
    "    return document_id"
   ]
  },
  {
   "cell_type": "code",
   "execution_count": 66,
   "id": "e1c0931b",
   "metadata": {},
   "outputs": [],
   "source": [
    "for doc in documents:\n",
    "    doc['id'] = generate_document_id(doc)"
   ]
  },
  {
   "cell_type": "code",
   "execution_count": 67,
   "id": "86db3d68",
   "metadata": {},
   "outputs": [
    {
     "data": {
      "text/plain": [
       "{'intent': 'receive_payment',\n",
       " 'question': 'i got to receive fucking compensations can i get some ehlp',\n",
       " 'response': 'To process your compensation payment for the insurance claim, please adhere to the following steps:\\n\\n1. Access your account by visiting {{WEBSITE_URL}}.\\n2. Locate the {{CLAIM_SECTION}} for your specific claim.\\n3. Identify the claim that you wish to be compensated for.\\n4. Opt for the {{RECEIVE_PAYMENT_OPTION}} that best suits your preference.\\n5. Follow the provided instructions to finalize your preferred method of payment and validate the information.\\n\\nShould you face any complications during this process, do not hesitate to reach out to our customer support team for immediate assistance.',\n",
       " 'category': 'CLAIMS',\n",
       " 'id': 'da0592e6'}"
      ]
     },
     "execution_count": 67,
     "metadata": {},
     "output_type": "execute_result"
    }
   ],
   "source": [
    "documents[3]"
   ]
  },
  {
   "cell_type": "code",
   "execution_count": 68,
   "id": "e345f251",
   "metadata": {},
   "outputs": [
    {
     "data": {
      "text/plain": [
       "390"
      ]
     },
     "execution_count": 68,
     "metadata": {},
     "output_type": "execute_result"
    }
   ],
   "source": [
    "len(documents)"
   ]
  },
  {
   "cell_type": "code",
   "execution_count": 69,
   "id": "ac7b3900",
   "metadata": {},
   "outputs": [],
   "source": [
    "with open('../Data/documents-with-ids.json', 'wt') as f_out:\n",
    "    json.dump(documents, f_out, indent=2)"
   ]
  },
  {
   "cell_type": "code",
   "execution_count": null,
   "id": "d7b49c2d",
   "metadata": {},
   "outputs": [],
   "source": []
  }
 ],
 "metadata": {
  "kernelspec": {
   "display_name": "llm-rag",
   "language": "python",
   "name": "python3"
  },
  "language_info": {
   "codemirror_mode": {
    "name": "ipython",
    "version": 3
   },
   "file_extension": ".py",
   "mimetype": "text/x-python",
   "name": "python",
   "nbconvert_exporter": "python",
   "pygments_lexer": "ipython3",
   "version": "3.12.11"
  }
 },
 "nbformat": 4,
 "nbformat_minor": 5
}
